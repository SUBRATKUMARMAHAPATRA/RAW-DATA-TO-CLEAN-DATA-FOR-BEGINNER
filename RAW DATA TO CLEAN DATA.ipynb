{
 "cells": [
  {
   "cell_type": "code",
   "execution_count": 1,
   "id": "c4a09eec",
   "metadata": {},
   "outputs": [],
   "source": [
    "import pandas as pd"
   ]
  },
  {
   "cell_type": "code",
   "execution_count": 2,
   "id": "3482736f",
   "metadata": {},
   "outputs": [],
   "source": [
    "raw_data=pd.read_excel(r'E:\\N_Batch -- 4.30PM\\2.Aug\\4th,7th\\data cleaning task\\raw data.xlsx')"
   ]
  },
  {
   "cell_type": "code",
   "execution_count": 3,
   "id": "5ed4b1b1",
   "metadata": {},
   "outputs": [
    {
     "data": {
      "text/html": [
       "<div>\n",
       "<style scoped>\n",
       "    .dataframe tbody tr th:only-of-type {\n",
       "        vertical-align: middle;\n",
       "    }\n",
       "\n",
       "    .dataframe tbody tr th {\n",
       "        vertical-align: top;\n",
       "    }\n",
       "\n",
       "    .dataframe thead th {\n",
       "        text-align: right;\n",
       "    }\n",
       "</style>\n",
       "<table border=\"1\" class=\"dataframe\">\n",
       "  <thead>\n",
       "    <tr style=\"text-align: right;\">\n",
       "      <th></th>\n",
       "      <th>Unnamed: 0</th>\n",
       "      <th>ADDR</th>\n",
       "      <th>DT</th>\n",
       "      <th>NAME</th>\n",
       "      <th>time</th>\n",
       "    </tr>\n",
       "  </thead>\n",
       "  <tbody>\n",
       "    <tr>\n",
       "      <th>0</th>\n",
       "      <td>NaN</td>\n",
       "      <td>45 rd, kenith street, btm, bangalore 500038</td>\n",
       "      <td>2022-04-03</td>\n",
       "      <td>abc</td>\n",
       "      <td>8:30:21</td>\n",
       "    </tr>\n",
       "    <tr>\n",
       "      <th>1</th>\n",
       "      <td>NaN</td>\n",
       "      <td>45 rd,  street, hitech, Hd 500038</td>\n",
       "      <td>2022-04-02</td>\n",
       "      <td>dec</td>\n",
       "      <td>5:30:21</td>\n",
       "    </tr>\n",
       "  </tbody>\n",
       "</table>\n",
       "</div>"
      ],
      "text/plain": [
       "   Unnamed: 0                                         ADDR         DT NAME  \\\n",
       "0         NaN  45 rd, kenith street, btm, bangalore 500038 2022-04-03  abc   \n",
       "1         NaN            45 rd,  street, hitech, Hd 500038 2022-04-02  dec   \n",
       "\n",
       "      time  \n",
       "0  8:30:21  \n",
       "1  5:30:21  "
      ]
     },
     "execution_count": 3,
     "metadata": {},
     "output_type": "execute_result"
    }
   ],
   "source": [
    "raw_data"
   ]
  },
  {
   "cell_type": "code",
   "execution_count": 4,
   "id": "7a23b6f6",
   "metadata": {},
   "outputs": [
    {
     "data": {
      "text/html": [
       "<div>\n",
       "<style scoped>\n",
       "    .dataframe tbody tr th:only-of-type {\n",
       "        vertical-align: middle;\n",
       "    }\n",
       "\n",
       "    .dataframe tbody tr th {\n",
       "        vertical-align: top;\n",
       "    }\n",
       "\n",
       "    .dataframe thead th {\n",
       "        text-align: right;\n",
       "    }\n",
       "</style>\n",
       "<table border=\"1\" class=\"dataframe\">\n",
       "  <thead>\n",
       "    <tr style=\"text-align: right;\">\n",
       "      <th></th>\n",
       "      <th>Unnamed: 0</th>\n",
       "      <th>ADDR</th>\n",
       "      <th>DT</th>\n",
       "      <th>NAME</th>\n",
       "      <th>time</th>\n",
       "    </tr>\n",
       "  </thead>\n",
       "  <tbody>\n",
       "    <tr>\n",
       "      <th>0</th>\n",
       "      <td>NaN</td>\n",
       "      <td>45 rd, kenith street, btm, bangalore 500038</td>\n",
       "      <td>2022-04-03</td>\n",
       "      <td>abc</td>\n",
       "      <td>8:30:21</td>\n",
       "    </tr>\n",
       "    <tr>\n",
       "      <th>1</th>\n",
       "      <td>NaN</td>\n",
       "      <td>45 rd,  street, hitech, Hd 500038</td>\n",
       "      <td>2022-04-02</td>\n",
       "      <td>dec</td>\n",
       "      <td>5:30:21</td>\n",
       "    </tr>\n",
       "  </tbody>\n",
       "</table>\n",
       "</div>"
      ],
      "text/plain": [
       "   Unnamed: 0                                         ADDR         DT NAME  \\\n",
       "0         NaN  45 rd, kenith street, btm, bangalore 500038 2022-04-03  abc   \n",
       "1         NaN            45 rd,  street, hitech, Hd 500038 2022-04-02  dec   \n",
       "\n",
       "      time  \n",
       "0  8:30:21  \n",
       "1  5:30:21  "
      ]
     },
     "execution_count": 4,
     "metadata": {},
     "output_type": "execute_result"
    }
   ],
   "source": [
    "raw_data[0:4]"
   ]
  },
  {
   "cell_type": "code",
   "execution_count": 5,
   "id": "ec79c39d",
   "metadata": {},
   "outputs": [
    {
     "data": {
      "text/plain": [
       "Index(['Unnamed: 0', 'ADDR', 'DT', 'NAME', 'time'], dtype='object')"
      ]
     },
     "execution_count": 5,
     "metadata": {},
     "output_type": "execute_result"
    }
   ],
   "source": [
    "raw_data.columns"
   ]
  },
  {
   "cell_type": "code",
   "execution_count": 6,
   "id": "80b96597",
   "metadata": {},
   "outputs": [
    {
     "data": {
      "text/html": [
       "<div>\n",
       "<style scoped>\n",
       "    .dataframe tbody tr th:only-of-type {\n",
       "        vertical-align: middle;\n",
       "    }\n",
       "\n",
       "    .dataframe tbody tr th {\n",
       "        vertical-align: top;\n",
       "    }\n",
       "\n",
       "    .dataframe thead th {\n",
       "        text-align: right;\n",
       "    }\n",
       "</style>\n",
       "<table border=\"1\" class=\"dataframe\">\n",
       "  <thead>\n",
       "    <tr style=\"text-align: right;\">\n",
       "      <th></th>\n",
       "      <th>ADDR</th>\n",
       "      <th>DT</th>\n",
       "      <th>NAME</th>\n",
       "      <th>time</th>\n",
       "    </tr>\n",
       "  </thead>\n",
       "  <tbody>\n",
       "    <tr>\n",
       "      <th>0</th>\n",
       "      <td>45 rd, kenith street, btm, bangalore 500038</td>\n",
       "      <td>2022-04-03</td>\n",
       "      <td>abc</td>\n",
       "      <td>8:30:21</td>\n",
       "    </tr>\n",
       "    <tr>\n",
       "      <th>1</th>\n",
       "      <td>45 rd,  street, hitech, Hd 500038</td>\n",
       "      <td>2022-04-02</td>\n",
       "      <td>dec</td>\n",
       "      <td>5:30:21</td>\n",
       "    </tr>\n",
       "  </tbody>\n",
       "</table>\n",
       "</div>"
      ],
      "text/plain": [
       "                                          ADDR         DT NAME     time\n",
       "0  45 rd, kenith street, btm, bangalore 500038 2022-04-03  abc  8:30:21\n",
       "1            45 rd,  street, hitech, Hd 500038 2022-04-02  dec  5:30:21"
      ]
     },
     "execution_count": 6,
     "metadata": {},
     "output_type": "execute_result"
    }
   ],
   "source": [
    "raw_data.drop(columns='Unnamed: 0')"
   ]
  },
  {
   "cell_type": "code",
   "execution_count": 14,
   "id": "a75e1bee",
   "metadata": {},
   "outputs": [
    {
     "ename": "KeyError",
     "evalue": "4",
     "output_type": "error",
     "traceback": [
      "\u001b[1;31m---------------------------------------------------------------------------\u001b[0m",
      "\u001b[1;31mValueError\u001b[0m                                Traceback (most recent call last)",
      "File \u001b[1;32m~\\anaconda3\\Lib\\site-packages\\pandas\\core\\indexes\\range.py:345\u001b[0m, in \u001b[0;36mRangeIndex.get_loc\u001b[1;34m(self, key)\u001b[0m\n\u001b[0;32m    344\u001b[0m \u001b[38;5;28;01mtry\u001b[39;00m:\n\u001b[1;32m--> 345\u001b[0m     \u001b[38;5;28;01mreturn\u001b[39;00m \u001b[38;5;28mself\u001b[39m\u001b[38;5;241m.\u001b[39m_range\u001b[38;5;241m.\u001b[39mindex(new_key)\n\u001b[0;32m    346\u001b[0m \u001b[38;5;28;01mexcept\u001b[39;00m \u001b[38;5;167;01mValueError\u001b[39;00m \u001b[38;5;28;01mas\u001b[39;00m err:\n",
      "\u001b[1;31mValueError\u001b[0m: 4 is not in range",
      "\nThe above exception was the direct cause of the following exception:\n",
      "\u001b[1;31mKeyError\u001b[0m                                  Traceback (most recent call last)",
      "Cell \u001b[1;32mIn[14], line 22\u001b[0m\n\u001b[0;32m     20\u001b[0m raw_data[\u001b[38;5;124m'\u001b[39m\u001b[38;5;124mCity\u001b[39m\u001b[38;5;124m'\u001b[39m] \u001b[38;5;241m=\u001b[39m split_addr[\u001b[38;5;241m2\u001b[39m]\n\u001b[0;32m     21\u001b[0m raw_data[\u001b[38;5;124m'\u001b[39m\u001b[38;5;124mState\u001b[39m\u001b[38;5;124m'\u001b[39m] \u001b[38;5;241m=\u001b[39m split_addr[\u001b[38;5;241m3\u001b[39m]\n\u001b[1;32m---> 22\u001b[0m raw_data[\u001b[38;5;124m'\u001b[39m\u001b[38;5;124mZip Code\u001b[39m\u001b[38;5;124m'\u001b[39m] \u001b[38;5;241m=\u001b[39m split_addr[\u001b[38;5;241m4\u001b[39m]\n\u001b[0;32m     23\u001b[0m raw_data[\u001b[38;5;124m'\u001b[39m\u001b[38;5;124mYear\u001b[39m\u001b[38;5;124m'\u001b[39m] \u001b[38;5;241m=\u001b[39m split_dt[\u001b[38;5;241m0\u001b[39m]\n\u001b[0;32m     24\u001b[0m raw_data[\u001b[38;5;124m'\u001b[39m\u001b[38;5;124mMonth\u001b[39m\u001b[38;5;124m'\u001b[39m] \u001b[38;5;241m=\u001b[39m split_dt[\u001b[38;5;241m1\u001b[39m]\n",
      "File \u001b[1;32m~\\anaconda3\\Lib\\site-packages\\pandas\\core\\frame.py:3761\u001b[0m, in \u001b[0;36mDataFrame.__getitem__\u001b[1;34m(self, key)\u001b[0m\n\u001b[0;32m   3759\u001b[0m \u001b[38;5;28;01mif\u001b[39;00m \u001b[38;5;28mself\u001b[39m\u001b[38;5;241m.\u001b[39mcolumns\u001b[38;5;241m.\u001b[39mnlevels \u001b[38;5;241m>\u001b[39m \u001b[38;5;241m1\u001b[39m:\n\u001b[0;32m   3760\u001b[0m     \u001b[38;5;28;01mreturn\u001b[39;00m \u001b[38;5;28mself\u001b[39m\u001b[38;5;241m.\u001b[39m_getitem_multilevel(key)\n\u001b[1;32m-> 3761\u001b[0m indexer \u001b[38;5;241m=\u001b[39m \u001b[38;5;28mself\u001b[39m\u001b[38;5;241m.\u001b[39mcolumns\u001b[38;5;241m.\u001b[39mget_loc(key)\n\u001b[0;32m   3762\u001b[0m \u001b[38;5;28;01mif\u001b[39;00m is_integer(indexer):\n\u001b[0;32m   3763\u001b[0m     indexer \u001b[38;5;241m=\u001b[39m [indexer]\n",
      "File \u001b[1;32m~\\anaconda3\\Lib\\site-packages\\pandas\\core\\indexes\\range.py:347\u001b[0m, in \u001b[0;36mRangeIndex.get_loc\u001b[1;34m(self, key)\u001b[0m\n\u001b[0;32m    345\u001b[0m         \u001b[38;5;28;01mreturn\u001b[39;00m \u001b[38;5;28mself\u001b[39m\u001b[38;5;241m.\u001b[39m_range\u001b[38;5;241m.\u001b[39mindex(new_key)\n\u001b[0;32m    346\u001b[0m     \u001b[38;5;28;01mexcept\u001b[39;00m \u001b[38;5;167;01mValueError\u001b[39;00m \u001b[38;5;28;01mas\u001b[39;00m err:\n\u001b[1;32m--> 347\u001b[0m         \u001b[38;5;28;01mraise\u001b[39;00m \u001b[38;5;167;01mKeyError\u001b[39;00m(key) \u001b[38;5;28;01mfrom\u001b[39;00m \u001b[38;5;21;01merr\u001b[39;00m\n\u001b[0;32m    348\u001b[0m \u001b[38;5;28;01mif\u001b[39;00m \u001b[38;5;28misinstance\u001b[39m(key, Hashable):\n\u001b[0;32m    349\u001b[0m     \u001b[38;5;28;01mraise\u001b[39;00m \u001b[38;5;167;01mKeyError\u001b[39;00m(key)\n",
      "\u001b[1;31mKeyError\u001b[0m: 4"
     ]
    }
   ],
   "source": [
    "# Raw data (assuming it's in a DataFrame)\n",
    "raw_data = pd.DataFrame({\n",
    "    'ADDR': ['45 rd, kenith street, btm, bangalore 500038', '45 rd, street, hitech, Hd 500038'],\n",
    "    'DT': ['2022-04-03', '2022-04-02'],\n",
    "    'NAME': ['abc', 'abc'],\n",
    "    'time': ['8:30:21', '5:30:21']\n",
    "})\n",
    "\n",
    "# Split the 'ADDR' column into components\n",
    "split_addr = raw_data['ADDR'].str.split(', ', expand=True)\n",
    "# Split the 'DT' column into components\n",
    "split_dt = raw_data['DT'].str.split('-', expand=True)\n",
    "# Split the 'NAME' column into components (not needed here as it doesn't contain multiple values separated by commas)\n",
    "# Split the 'time' column into components\n",
    "split_time = raw_data['time'].str.split(':', expand=True)\n",
    "\n",
    "# Assign each component to corresponding new columns\n",
    "raw_data['House no'] = split_addr[0]\n",
    "raw_data['Street'] = split_addr[1]\n",
    "raw_data['City'] = split_addr[2]\n",
    "raw_data['State'] = split_addr[3]\n",
    "raw_data['Zip Code'] = split_addr[4]\n",
    "raw_data['Year'] = split_dt[0]\n",
    "raw_data['Month'] = split_dt[1]\n",
    "raw_data['Day'] = split_dt[2]\n",
    "raw_data['Hour'] = split_time[0]\n",
    "raw_data['Minute'] = split_time[1]\n",
    "raw_data['Second'] = split_time[2]\n",
    "\n",
    "# Drop the original columns\n",
    "raw_data.drop(columns=['ADDR', 'DT', 'time'], inplace=True)\n",
    "\n",
    "# Print cleaned data\n",
    "print(\"Cleaned Data:\")\n",
    "print(raw_data)\n"
   ]
  },
  {
   "cell_type": "code",
   "execution_count": 15,
   "id": "286bf0bb",
   "metadata": {},
   "outputs": [
    {
     "name": "stdout",
     "output_type": "stream",
     "text": [
      "Cleaned Data:\n",
      "  NAME House no         Street    City             State Zip Code  Year Month  \\\n",
      "0  abc    45 rd  kenith street     btm  bangalore 500038     None  2022    04   \n",
      "1  abc    45 rd         street  hitech         Hd 500038     None  2022    04   \n",
      "\n",
      "  Day Hour Minute Second  \n",
      "0  03    8     30     21  \n",
      "1  02    5     30     21  \n"
     ]
    }
   ],
   "source": [
    "# Raw data (assuming it's in a DataFrame)\n",
    "raw_data = pd.DataFrame({\n",
    "    'ADDR': ['45 rd, kenith street, btm, bangalore 500038', '45 rd, street, hitech, Hd 500038'],\n",
    "    'DT': ['2022-04-03', '2022-04-02'],\n",
    "    'NAME': ['abc', 'abc'],\n",
    "    'time': ['8:30:21', '5:30:21']\n",
    "})\n",
    "\n",
    "# Function to split columns\n",
    "def split_columns(data):\n",
    "    split_addr = data['ADDR'].str.split(', ', expand=True)\n",
    "    split_dt = data['DT'].str.split('-', expand=True)\n",
    "    split_time = data['time'].str.split(':', expand=True)\n",
    "\n",
    "    # Assign each component to corresponding new columns\n",
    "    data['House no'] = split_addr[0]\n",
    "    data['Street'] = split_addr[1]\n",
    "    data['City'] = split_addr[2]\n",
    "    data['State'] = split_addr[3]\n",
    "    if len(split_addr.columns) > 4:\n",
    "        data['Zip Code'] = split_addr[4]\n",
    "    else:\n",
    "        data['Zip Code'] = None\n",
    "\n",
    "    data['Year'] = split_dt[0]\n",
    "    data['Month'] = split_dt[1]\n",
    "    data['Day'] = split_dt[2]\n",
    "\n",
    "    data['Hour'] = split_time[0]\n",
    "    data['Minute'] = split_time[1]\n",
    "    data['Second'] = split_time[2]\n",
    "\n",
    "    # Drop the original columns\n",
    "    data.drop(columns=['ADDR', 'DT', 'time'], inplace=True)\n",
    "\n",
    "# Apply the function to the raw data\n",
    "split_columns(raw_data)\n",
    "\n",
    "# Print cleaned data\n",
    "print(\"Cleaned Data:\")\n",
    "print(raw_data)\n"
   ]
  },
  {
   "cell_type": "code",
   "execution_count": 17,
   "id": "76f4a024",
   "metadata": {},
   "outputs": [
    {
     "name": "stdout",
     "output_type": "stream",
     "text": [
      "Cleaned Data saved to Excel file: cleaned_data.xlsx\n"
     ]
    }
   ],
   "source": [
    "# Raw data (assuming it's in a DataFrame)\n",
    "raw_data = pd.DataFrame({\n",
    "    'ADDR': ['45 rd, kenith street, btm, bangalore 500038', '45 rd, street, hitech, Hd 500038'],\n",
    "    'DT': ['2022-04-03', '2022-04-02'],\n",
    "    'NAME': ['abc', 'abc'],\n",
    "    'time': ['8:30:21', '5:30:21']\n",
    "})\n",
    "\n",
    "# Function to split columns\n",
    "def split_columns(data):\n",
    "    split_addr = data['ADDR'].str.split(', ', expand=True)\n",
    "    split_dt = data['DT'].str.split('-', expand=True)\n",
    "    split_time = data['time'].str.split(':', expand=True)\n",
    "\n",
    "    # Assign each component to corresponding new columns\n",
    "    data['House no'] = split_addr[0]\n",
    "    data['Street'] = split_addr[1]\n",
    "    data['City'] = split_addr[2]\n",
    "    data['State'] = split_addr[3]\n",
    "    if len(split_addr.columns) > 4:\n",
    "        data['Zip Code'] = split_addr[4]\n",
    "    else:\n",
    "        data['Zip Code'] = None\n",
    "\n",
    "    data['Year'] = split_dt[0]\n",
    "    data['Month'] = split_dt[1]\n",
    "    data['Day'] = split_dt[2]\n",
    "\n",
    "    data['Hour'] = split_time[0]\n",
    "    data['Minute'] = split_time[1]\n",
    "    data['Second'] = split_time[2]\n",
    "\n",
    "    # Drop the original columns\n",
    "    data.drop(columns=['ADDR', 'DT', 'time'], inplace=True)\n",
    "\n",
    "# Apply the function to the raw data\n",
    "split_columns(raw_data)\n",
    "\n",
    "# Save cleaned data to an Excel file\n",
    "excel_file_path = \"cleaned_data.xlsx\"\n",
    "raw_data.to_excel(excel_file_path, index=False)\n",
    "\n",
    "print(\"Cleaned Data saved to Excel file:\", excel_file_path)\n"
   ]
  },
  {
   "cell_type": "code",
   "execution_count": null,
   "id": "7c31080d",
   "metadata": {},
   "outputs": [],
   "source": []
  }
 ],
 "metadata": {
  "kernelspec": {
   "display_name": "Python 3 (ipykernel)",
   "language": "python",
   "name": "python3"
  },
  "language_info": {
   "codemirror_mode": {
    "name": "ipython",
    "version": 3
   },
   "file_extension": ".py",
   "mimetype": "text/x-python",
   "name": "python",
   "nbconvert_exporter": "python",
   "pygments_lexer": "ipython3",
   "version": "3.11.5"
  }
 },
 "nbformat": 4,
 "nbformat_minor": 5
}
